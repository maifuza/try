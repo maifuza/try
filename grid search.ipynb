{
 "cells": [
  {
   "cell_type": "code",
   "execution_count": 1,
   "id": "d72e34b5",
   "metadata": {},
   "outputs": [],
   "source": [
    "# Import libraries\n",
    "import numpy as np\n",
    "import pandas as pd\n",
    "from sklearn.linear_model import LogisticRegression\n",
    "from sklearn.metrics import accuracy_score\n",
    "from sklearn.model_selection import train_test_split, ParameterGrid\n"
   ]
  },
  {
   "cell_type": "code",
   "execution_count": 2,
   "id": "97acf087",
   "metadata": {},
   "outputs": [],
   "source": [
    "# Load dataset (gantikan dengan dataset sebenar anda)\n",
    "dataset_path = \"TRAIN FAKE N NOT FAKE list.xlsx\"  # Gantikan dengan nama fail sebenar anda\n",
    "df = pd.read_excel(dataset_path)\n",
    "\n",
    "# Preprocessing\n",
    "target_column = \"label_preprocess2\"  # Gantikan dengan nama kolum target sebenar\n",
    "X = df[['cluster','Built_Up_SF','Bathroom','Furnishing','Bedroom','Tenure','Car_Park','Negeri','Property_Type','Latitude','Longitude','Occupancy','Unit_Type']]  # Features\n",
    "y = df[target_column]  # Sasaran (target)\n",
    "\n",
    "# Train-test split\n",
    "X_train, X_test, y_train, y_test = train_test_split(X, y, test_size=0.2, random_state=42)\n"
   ]
  },
  {
   "cell_type": "code",
   "execution_count": 3,
   "id": "a0eda948",
   "metadata": {},
   "outputs": [],
   "source": [
    "# Define the grid for class weights\n",
    "param_grid = {\n",
    "    \"class_weight_0\": np.linspace(0.1, 1.0, 10),  # Pemberat untuk kelas 'fake'\n",
    "    \"class_weight_1\": np.linspace(0.1, 1.0, 10),  # Pemberat untuk kelas 'not fake'\n",
    "}\n",
    "\n",
    "# Convert the grid to a list of parameter combinations\n",
    "grid = list(ParameterGrid(param_grid))\n"
   ]
  },
  {
   "cell_type": "code",
   "execution_count": 4,
   "id": "606c0ea5",
   "metadata": {},
   "outputs": [],
   "source": [
    "# Initialize variables to store the best results\n",
    "best_accuracy = 0\n",
    "best_params = None\n",
    "results = []\n"
   ]
  },
  {
   "cell_type": "code",
   "execution_count": 5,
   "id": "f2bfc400",
   "metadata": {},
   "outputs": [],
   "source": [
    "# Perform Grid Search\n",
    "for params in grid:\n",
    "    class_weights = {0: params[\"class_weight_0\"], 1: params[\"class_weight_1\"]}\n",
    "\n",
    "    # Train logistic regression model\n",
    "    model = LogisticRegression(class_weight=class_weights, max_iter=1000, random_state=42)\n",
    "    model.fit(X_train, y_train)\n",
    "\n",
    "    # Evaluate model\n",
    "    y_pred = model.predict(X_test)\n",
    "    accuracy = accuracy_score(y_test, y_pred)\n",
    "\n",
    "    # Save results\n",
    "    results.append({\"class_weight_0\": params[\"class_weight_0\"], \"class_weight_1\": params[\"class_weight_1\"], \"accuracy\": accuracy})\n",
    "\n",
    "    # Update best parameters if necessary\n",
    "    if accuracy > best_accuracy:\n",
    "        best_accuracy = accuracy\n",
    "        best_params = class_weights\n"
   ]
  },
  {
   "cell_type": "code",
   "execution_count": 6,
   "id": "bfdbd781",
   "metadata": {},
   "outputs": [
    {
     "name": "stdout",
     "output_type": "stream",
     "text": [
      "Best Accuracy: 0.8870431893687708\n",
      "Best Class Weights: {0: 0.30000000000000004, 1: 0.5}\n"
     ]
    }
   ],
   "source": [
    "# Convert results to a DataFrame for analysis\n",
    "results_df = pd.DataFrame(results)\n",
    "\n",
    "# Display the best results\n",
    "print(f\"Best Accuracy: {best_accuracy}\")\n",
    "print(f\"Best Class Weights: {best_params}\")\n"
   ]
  },
  {
   "cell_type": "code",
   "execution_count": 7,
   "id": "34cd324d",
   "metadata": {},
   "outputs": [
    {
     "name": "stdout",
     "output_type": "stream",
     "text": [
      "Results saved to 'Grid_Search_Results.xlsx'\n"
     ]
    }
   ],
   "source": [
    "# Save results to Excel\n",
    "results_df.to_excel(\"Grid_Search_Results.xlsx\", index=False)\n",
    "print(\"Results saved to 'Grid_Search_Results.xlsx'\")\n"
   ]
  },
  {
   "cell_type": "code",
   "execution_count": null,
   "id": "295a0beb",
   "metadata": {},
   "outputs": [],
   "source": []
  }
 ],
 "metadata": {
  "kernelspec": {
   "display_name": "Python 3.10 (tensorflow)",
   "language": "python",
   "name": "tensorflow"
  },
  "language_info": {
   "codemirror_mode": {
    "name": "ipython",
    "version": 3
   },
   "file_extension": ".py",
   "mimetype": "text/x-python",
   "name": "python",
   "nbconvert_exporter": "python",
   "pygments_lexer": "ipython3",
   "version": "3.10.12"
  }
 },
 "nbformat": 4,
 "nbformat_minor": 5
}
